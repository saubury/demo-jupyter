{
 "cells": [
  {
   "cell_type": "code",
   "execution_count": null,
   "metadata": {},
   "outputs": [],
   "source": [
    "# Interactive plotting with Bokeh\n",
    "# https://towardsdatascience.com/interactive-plotting-with-bokeh-ea40ab10870"
   ]
  },
  {
   "cell_type": "code",
   "execution_count": null,
   "metadata": {},
   "outputs": [],
   "source": [
    "import bokeh\n",
    "import numpy as np\n",
    "from bokeh.models import Circle, ColumnDataSource, Line, LinearAxis, Range1d\n",
    "from bokeh.plotting import figure, output_notebook, show\n",
    "from bokeh.core.properties import value\n",
    "\n",
    "output_notebook()  # output bokeh plots to jupyter notebook\n",
    "np.random.seed(42)"
   ]
  },
  {
   "cell_type": "code",
   "execution_count": null,
   "metadata": {},
   "outputs": [],
   "source": [
    "N = 100\n",
    "data_source = ColumnDataSource(\n",
    "    data=dict(\n",
    "        x0=np.arange(N),\n",
    "        x1=np.random.standard_normal(size=N),\n",
    "        x2=np.arange(10, N + 10),\n",
    "        x3=np.random.standard_normal(size=N),\n",
    "    )\n",
    ")"
   ]
  },
  {
   "cell_type": "code",
   "execution_count": null,
   "metadata": {},
   "outputs": [],
   "source": [
    "p = figure()\n",
    "p.line(\"x0\", \"x1\", source=data_source)\n",
    "show(p)"
   ]
  },
  {
   "cell_type": "code",
   "execution_count": null,
   "metadata": {},
   "outputs": [],
   "source": [
    "p = figure()\n",
    "column1 = \"x1\"\n",
    "column2 = \"x2\"\n",
    "# FIRST AXIS\n",
    "p.line(\"x0\", column1, legend=value(column1), color=\"blue\", source=data_source)\n",
    "p.y_range = Range1d(data_source.data[column1].min(), data_source.data[column1].max())\n",
    "# SECOND AXIS\n",
    "column2_range = column2 + \"_range\"\n",
    "p.extra_y_ranges = {\n",
    "    column2_range: Range1d(\n",
    "        data_source.data[column2].min(), data_source.data[column2].max()\n",
    "    )\n",
    "}\n",
    "p.add_layout(LinearAxis(y_range_name=column2_range), \"right\")\n",
    "p.line(\"x0\", column2, legend=value(column2), y_range_name=column2_range, color=\"green\",source=data_source)\n",
    "show(p)"
   ]
  },
  {
   "cell_type": "code",
   "execution_count": null,
   "metadata": {},
   "outputs": [],
   "source": [
    "p = figure()\n",
    "p.line(x=\"x0\", y=\"x1\",color=\"blue\", source=data_source )\n",
    "p.circle(x=\"x0\", y=\"x3\",color='green', source=data_source)\n",
    "show(p)"
   ]
  },
  {
   "cell_type": "code",
   "execution_count": null,
   "metadata": {},
   "outputs": [],
   "source": []
  },
  {
   "cell_type": "code",
   "execution_count": null,
   "metadata": {},
   "outputs": [],
   "source": []
  }
 ],
 "metadata": {
  "kernelspec": {
   "display_name": "Python 3",
   "language": "python",
   "name": "python3"
  },
  "language_info": {
   "codemirror_mode": {
    "name": "ipython",
    "version": 3
   },
   "file_extension": ".py",
   "mimetype": "text/x-python",
   "name": "python",
   "nbconvert_exporter": "python",
   "pygments_lexer": "ipython3",
   "version": "3.7.3"
  }
 },
 "nbformat": 4,
 "nbformat_minor": 2
}
