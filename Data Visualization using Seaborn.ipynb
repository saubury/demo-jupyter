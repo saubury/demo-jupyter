{
 "cells": [
  {
   "cell_type": "code",
   "execution_count": null,
   "metadata": {},
   "outputs": [],
   "source": [
    "# Data Visualization using Seaborn\n",
    "# https://towardsdatascience.com/data-visualization-using-seaborn-fc24db95a850\n",
    "\n",
    "# Problems with SSL\n",
    "# ssl._create_default_https_context = ssl._create_unverified_context"
   ]
  },
  {
   "cell_type": "code",
   "execution_count": null,
   "metadata": {},
   "outputs": [],
   "source": [
    "# 1\n",
    "import numpy as np\n",
    "import pandas as pd\n",
    "import seaborn as sns\n",
    "import matplotlib.pyplot as plt\n",
    "\n",
    "import ssl\n",
    "ssl._create_default_https_context = ssl._create_unverified_context\n",
    "\n",
    "%matplotlib inline"
   ]
  },
  {
   "cell_type": "code",
   "execution_count": null,
   "metadata": {},
   "outputs": [],
   "source": [
    "# 2\n",
    "census_data = pd.read_csv('census_data.csv')\n",
    "census_data.describe()"
   ]
  },
  {
   "cell_type": "code",
   "execution_count": null,
   "metadata": {},
   "outputs": [],
   "source": [
    "# 3\n",
    "census_data.head()"
   ]
  },
  {
   "cell_type": "code",
   "execution_count": null,
   "metadata": {},
   "outputs": [],
   "source": [
    "# 4\n",
    "census_data.info()"
   ]
  },
  {
   "cell_type": "code",
   "execution_count": null,
   "metadata": {},
   "outputs": [],
   "source": [
    "# 5\n",
    "sns.scatterplot(x='capital_loss',y='capital_gain',data=census_data)"
   ]
  },
  {
   "cell_type": "code",
   "execution_count": null,
   "metadata": {},
   "outputs": [],
   "source": [
    "# 6\n",
    "sns.set(style=\"darkgrid\")\n",
    "tips = sns.load_dataset(\"tips\")              #tips is inbuild dataset in seaborn\n",
    "sns.relplot(x=\"total_bill\", y=\"tip\", data=tips);"
   ]
  },
  {
   "cell_type": "code",
   "execution_count": null,
   "metadata": {},
   "outputs": [],
   "source": [
    "# 7\n",
    "# adding some additional parameters\n",
    "sns.scatterplot(x='capital_loss',y='capital_gain',hue='marital_status',data=census_data)\n",
    "# hue:  Can be either categorical or numeric, although color mapping will\n",
    "#          behave differently in latter case."
   ]
  },
  {
   "cell_type": "code",
   "execution_count": null,
   "metadata": {},
   "outputs": [],
   "source": [
    "# 8\n",
    "sns.scatterplot(x='capital_loss',y='capital_gain',hue='marital_status',size='age',data=census_data)"
   ]
  },
  {
   "cell_type": "code",
   "execution_count": null,
   "metadata": {},
   "outputs": [],
   "source": [
    "# 9\n",
    "# As I said above the scatterplot() is the default kind in relplot() (it can also be forced by setting kind=\"scatter\"):\n",
    "# see difference\n",
    "sns.relplot(x='capital_loss',y='capital_gain',hue='marital_status',size='age',data=census_data)"
   ]
  },
  {
   "cell_type": "code",
   "execution_count": null,
   "metadata": {},
   "outputs": [],
   "source": [
    "# 10\n",
    "df = pd.DataFrame(dict(time=np.arange(500),\n",
    "                       value=np.random.randn(500).cumsum()))\n",
    "g = sns.relplot(x=\"time\", y=\"value\", kind=\"line\", data=df)\n",
    "g.fig.autofmt_xdate()\n",
    "\"\"\"\n",
    "Figure-level interface for drawing relational plots onto a FacetGrid.\n",
    "This function provides access to several different axes-level functions\n",
    "that show the relationship between two variables with semantic mappings\n",
    "of subsets. The ``kind`` parameter selects the underlying axes-level\n",
    "function to use:\n",
    "- :func:`scatterplot` (with ``kind=\"scatter\"``; the default)\n",
    "- :func:`lineplot` (with ``kind=\"line\"``)\n",
    "\"\"\""
   ]
  },
  {
   "cell_type": "code",
   "execution_count": null,
   "metadata": {},
   "outputs": [],
   "source": [
    "# 11\n",
    "age_vs_hours_per_week = sns.relplot(x=\"age\", y=\"hours_per_week\", kind=\"line\", data=census_data)"
   ]
  },
  {
   "cell_type": "code",
   "execution_count": null,
   "metadata": {},
   "outputs": [],
   "source": [
    "# 12\n",
    "age_vs_hours_per_week = sns.relplot(x=\"age\", y=\"hours_per_week\", kind=\"line\",sort=False, data=census_data)"
   ]
  },
  {
   "cell_type": "code",
   "execution_count": null,
   "metadata": {},
   "outputs": [],
   "source": [
    "# 13\n",
    "sns.relplot(x='capital_loss',y='capital_gain',hue='marital_status',size='age',col='gender',data=census_data)"
   ]
  },
  {
   "cell_type": "code",
   "execution_count": null,
   "metadata": {},
   "outputs": [],
   "source": [
    "# 14\n",
    "sns.relplot(x='capital_loss',y='capital_gain',hue='marital_status',size='age',col='income_bracket',data=census_data)"
   ]
  },
  {
   "cell_type": "code",
   "execution_count": null,
   "metadata": {},
   "outputs": [],
   "source": [
    "# 15\n",
    "sns.relplot(x='capital_loss',y='capital_gain',hue='marital_status',size='age',col='income_bracket',row='race',height=5,data=census_data)"
   ]
  },
  {
   "cell_type": "code",
   "execution_count": null,
   "metadata": {},
   "outputs": [],
   "source": [
    "# 16\n",
    "sns.catplot(x=\"age\",y=\"marital_status\",data=census_data)"
   ]
  },
  {
   "cell_type": "code",
   "execution_count": null,
   "metadata": {},
   "outputs": [],
   "source": [
    "# 27\n",
    "#sns.catplot(x=\"age\",y=\"relationship\",kind='swarm',data=census_data)\n",
    "#  or\n",
    "#sns.swarmplot(x=\"relationship\",y=\"age\",data=census_data)\n",
    "sns.catplot(x=\"day\", y=\"total_bill\", kind=\"swarm\", data=tips);"
   ]
  },
  {
   "cell_type": "code",
   "execution_count": null,
   "metadata": {},
   "outputs": [],
   "source": []
  }
 ],
 "metadata": {
  "kernelspec": {
   "display_name": "Python 3",
   "language": "python",
   "name": "python3"
  },
  "language_info": {
   "codemirror_mode": {
    "name": "ipython",
    "version": 3
   },
   "file_extension": ".py",
   "mimetype": "text/x-python",
   "name": "python",
   "nbconvert_exporter": "python",
   "pygments_lexer": "ipython3",
   "version": "3.7.3"
  }
 },
 "nbformat": 4,
 "nbformat_minor": 2
}
